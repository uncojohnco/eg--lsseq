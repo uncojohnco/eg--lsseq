{
 "cells": [
  {
   "cell_type": "code",
   "execution_count": 3,
   "metadata": {
    "collapsed": true,
    "pycharm": {
     "is_executing": false
    }
   },
   "outputs": [],
   "source": [
    "\n",
    "\n",
    "\n",
    "import os\n",
    "import re\n",
    "\n",
    "import logging\n",
    "from typing import List, Match, Union\n",
    "\n",
    "from IPython.display import display\n",
    "\n",
    "log = logging.getLogger('sandbox-2')\n",
    "log.setLevel(logging.DEBUG)\n",
    "\n",
    "DIGITS_RE = re.compile(r'\\d+')"
   ]
  },
  {
   "cell_type": "code",
   "execution_count": 4,
   "outputs": [
    {
     "data": {
      "text/plain": "['alpha.txt',\n 'file01_0040.rgb',\n 'file01_0041.rgb',\n 'file01_0042.rgb',\n 'file01_0043.rgb',\n 'file02_0044.rgb',\n 'file02_0045.rgb',\n 'file02_0046.rgb',\n 'file02_0047.rgb',\n 'file1.03.rgb',\n 'file2.03.rgb',\n 'file3.03.rgb',\n 'file4.03.rgb',\n 'file.info.03.rgb',\n 'file01.0000.v03.rgb',\n 'file02.0000.v03.rgb',\n 'file03.0000.v03.rgb']"
     },
     "metadata": {},
     "output_type": "display_data"
    }
   ],
   "source": [
    "files_pre = \"\"\"\n",
    "alpha.txt\n",
    "\n",
    "file01_0040.rgb\n",
    "file01_0041.rgb\n",
    "file01_0042.rgb\n",
    "file01_0043.rgb\n",
    "\n",
    "file02_0044.rgb\n",
    "file02_0045.rgb\n",
    "file02_0046.rgb\n",
    "file02_0047.rgb\n",
    "\n",
    "file1.03.rgb\n",
    "file2.03.rgb\n",
    "file3.03.rgb\n",
    "file4.03.rgb\n",
    "\n",
    "file.info.03.rgb\n",
    "\n",
    "file01.0000.v03.rgb\n",
    "file02.0000.v03.rgb\n",
    "file03.0000.v03.rgb\n",
    "\"\"\"\n",
    "\n",
    "files = files_pre.split()\n",
    "display(files)"
   ],
   "metadata": {
    "collapsed": false,
    "pycharm": {
     "name": "#%%\n",
     "is_executing": false
    }
   }
  },
  {
   "cell_type": "code",
   "execution_count": 7,
   "outputs": [
    {
     "name": "stdout",
     "text": [
      "alpha.txt - ['alpha.txt'], []\nfile01_0040.rgb - ['file', '_', '.rgb'], ['01', '0040']\nfile01_0041.rgb - ['file', '_', '.rgb'], ['01', '0041']\nfile01_0042.rgb - ['file', '_', '.rgb'], ['01', '0042']\nfile01_0043.rgb - ['file', '_', '.rgb'], ['01', '0043']\nfile02_0044.rgb - ['file', '_', '.rgb'], ['02', '0044']\nfile02_0045.rgb - ['file', '_', '.rgb'], ['02', '0045']\nfile02_0046.rgb - ['file', '_', '.rgb'], ['02', '0046']\nfile02_0047.rgb - ['file', '_', '.rgb'], ['02', '0047']\nfile1.03.rgb - ['file', '.', '.rgb'], ['1', '03']\nfile2.03.rgb - ['file', '.', '.rgb'], ['2', '03']\nfile3.03.rgb - ['file', '.', '.rgb'], ['3', '03']\nfile4.03.rgb - ['file', '.', '.rgb'], ['4', '03']\nfile.info.03.rgb - ['file.info.', '.rgb'], ['03']\nfile01.0000.v03.rgb - ['file', '.', '.v', '.rgb'], ['01', '0000', '03']\nfile02.0000.v03.rgb - ['file', '.', '.v', '.rgb'], ['02', '0000', '03']\nfile03.0000.v03.rgb - ['file', '.', '.v', '.rgb'], ['03', '0000', '03']\n"
     ],
     "output_type": "stream"
    }
   ],
   "source": [
    "import lss.util\n",
    "from lss.dataclass.item import Item\n",
    "\n",
    "items = list(map(Item, files))\n",
    "    \n",
    "for ii in items:\n",
    "    print(f'{ii} - {ii.parts}, {ii.digits}')\n",
    "    "
   ],
   "metadata": {
    "collapsed": false,
    "pycharm": {
     "name": "#%%\n",
     "is_executing": false
    }
   }
  }
 ],
 "metadata": {
  "kernelspec": {
   "display_name": "Python 3",
   "language": "python",
   "name": "python3"
  },
  "language_info": {
   "codemirror_mode": {
    "name": "ipython",
    "version": 2
   },
   "file_extension": ".py",
   "mimetype": "text/x-python",
   "name": "python",
   "nbconvert_exporter": "python",
   "pygments_lexer": "ipython2",
   "version": "2.7.6"
  },
  "pycharm": {
   "stem_cell": {
    "cell_type": "raw",
    "source": [],
    "metadata": {
     "collapsed": false
    }
   }
  }
 },
 "nbformat": 4,
 "nbformat_minor": 0
}