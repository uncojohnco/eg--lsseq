{
 "cells": [
  {
   "cell_type": "code",
   "execution_count": 3,
   "metadata": {
    "collapsed": true,
    "pycharm": {
     "is_executing": false
    }
   },
   "outputs": [],
   "source": [
    "\n",
    "\n",
    "\n",
    "import os\n",
    "import re\n",
    "\n",
    "import logging\n",
    "from typing import List, Match, Union\n",
    "\n",
    "from IPython.display import display\n",
    "\n",
    "log = logging.getLogger('sandbox-2')\n",
    "log.setLevel(logging.DEBUG)\n",
    "\n",
    "DIGITS_RE = re.compile(r'\\d+')"
   ]
  },
  {
   "cell_type": "code",
   "execution_count": 8,
   "outputs": [
    {
     "data": {
      "text/plain": "['alpha.txt',\n 'file01_0040.rgb',\n 'file01_0041.rgb',\n 'file01_0042.rgb',\n 'file01_0043.rgb',\n 'file02_0044.rgb',\n 'file02_0045.rgb',\n 'file02_0046.rgb',\n 'file02_0047.rgb']"
     },
     "metadata": {},
     "output_type": "display_data"
    }
   ],
   "source": [
    "files_pre = \"\"\"\n",
    "alpha.txt\n",
    "\n",
    "file01_0040.rgb\n",
    "file01_0041.rgb\n",
    "file01_0042.rgb\n",
    "file01_0043.rgb\n",
    "\n",
    "file02_0044.rgb\n",
    "file02_0045.rgb\n",
    "file02_0046.rgb\n",
    "file02_0047.rgb\n",
    "\"\"\"\n",
    "\n",
    "files = files_pre.split()\n",
    "display(files)"
   ],
   "metadata": {
    "collapsed": false,
    "pycharm": {
     "name": "#%%\n",
     "is_executing": false
    }
   }
  },
  {
   "cell_type": "code",
   "execution_count": 9,
   "outputs": [
    {
     "name": "stdout",
     "text": [
      "alpha.txt - ['alpha.txt'], []\nfile01_0040.rgb - ['file', '_', '.rgb'], ['01', '0040']\nfile01_0041.rgb - ['file', '_', '.rgb'], ['01', '0041']\nfile01_0042.rgb - ['file', '_', '.rgb'], ['01', '0042']\nfile01_0043.rgb - ['file', '_', '.rgb'], ['01', '0043']\nfile02_0044.rgb - ['file', '_', '.rgb'], ['02', '0044']\nfile02_0045.rgb - ['file', '_', '.rgb'], ['02', '0045']\nfile02_0046.rgb - ['file', '_', '.rgb'], ['02', '0046']\nfile02_0047.rgb - ['file', '_', '.rgb'], ['02', '0047']\n"
     ],
     "output_type": "stream"
    }
   ],
   "source": [
    "import lss.util\n",
    "from lss.dataclass.item import Item\n",
    "\n",
    "items = list(map(Item, files))\n",
    "    \n",
    "for ii in items:\n",
    "    print(f'{ii} - {ii.parts}, {ii.digits}')\n",
    "    "
   ],
   "metadata": {
    "collapsed": false,
    "pycharm": {
     "name": "#%%\n",
     "is_executing": false
    }
   }
  },
  {
   "cell_type": "code",
   "execution_count": 10,
   "outputs": [
    {
     "traceback": [
      "\u001b[0;31m---------------------------------------------------------------------------\u001b[0m",
      "\u001b[0;31mNameError\u001b[0m                                 Traceback (most recent call last)",
      "\u001b[0;32m<ipython-input-10-7d7759b341fc>\u001b[0m in \u001b[0;36m<module>\u001b[0;34m\u001b[0m\n\u001b[1;32m     15\u001b[0m \u001b[0;34m\u001b[0m\u001b[0m\n\u001b[1;32m     16\u001b[0m     \u001b[0;32mif\u001b[0m \u001b[0;32mnot\u001b[0m \u001b[0mfound\u001b[0m\u001b[0;34m:\u001b[0m\u001b[0;34m\u001b[0m\u001b[0;34m\u001b[0m\u001b[0m\n\u001b[0;32m---> 17\u001b[0;31m         \u001b[0mseq\u001b[0m \u001b[0;34m=\u001b[0m \u001b[0mSequence\u001b[0m\u001b[0;34m(\u001b[0m\u001b[0;34m[\u001b[0m\u001b[0mitem\u001b[0m\u001b[0;34m]\u001b[0m\u001b[0;34m)\u001b[0m\u001b[0;34m\u001b[0m\u001b[0;34m\u001b[0m\u001b[0m\n\u001b[0m\u001b[1;32m     18\u001b[0m         \u001b[0mseqs\u001b[0m\u001b[0;34m.\u001b[0m\u001b[0mappend\u001b[0m\u001b[0;34m(\u001b[0m\u001b[0mseq\u001b[0m\u001b[0;34m)\u001b[0m\u001b[0;34m\u001b[0m\u001b[0;34m\u001b[0m\u001b[0m\n",
      "\u001b[0;31mNameError\u001b[0m: name 'Sequence' is not defined"
     ],
     "ename": "NameError",
     "evalue": "name 'Sequence' is not defined",
     "output_type": "error"
    }
   ],
   "source": [
    "files_ = files[:]\n",
    "# list for storing sequences to be returned later\n",
    "seqs = []\n",
    "\n",
    "# organize the items into sequences\n",
    "while files_:\n",
    "    item = Item(files_.pop(0))\n",
    "    found = False\n",
    "    \n",
    "    for seq in seqs:\n",
    "        if seq.includes(item):\n",
    "            seq.append(item)\n",
    "            found = True\n",
    "            break\n",
    "    \n",
    "    if not found:\n",
    "        seq = Sequence([item])\n",
    "        seqs.append(seq)\n",
    "                    "
   ],
   "metadata": {
    "collapsed": false,
    "pycharm": {
     "name": "#%%\n",
     "is_executing": false
    }
   }
  },
  {
   "cell_type": "code",
   "execution_count": null,
   "outputs": [],
   "source": [],
   "metadata": {
    "collapsed": false,
    "pycharm": {
     "name": "#%%\n"
    }
   }
  }
 ],
 "metadata": {
  "kernelspec": {
   "display_name": "Python 3",
   "language": "python",
   "name": "python3"
  },
  "language_info": {
   "codemirror_mode": {
    "name": "ipython",
    "version": 2
   },
   "file_extension": ".py",
   "mimetype": "text/x-python",
   "name": "python",
   "nbconvert_exporter": "python",
   "pygments_lexer": "ipython2",
   "version": "2.7.6"
  },
  "pycharm": {
   "stem_cell": {
    "cell_type": "raw",
    "source": [],
    "metadata": {
     "collapsed": false
    }
   }
  }
 },
 "nbformat": 4,
 "nbformat_minor": 0
}