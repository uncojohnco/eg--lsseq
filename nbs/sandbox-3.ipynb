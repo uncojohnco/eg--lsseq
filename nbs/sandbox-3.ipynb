{
 "cells": [
  {
   "cell_type": "code",
   "execution_count": 9,
   "metadata": {
    "collapsed": true,
    "pycharm": {
     "is_executing": false
    }
   },
   "outputs": [
    {
     "name": "stdout",
     "text": [
      "The autoreload extension is already loaded. To reload it, use:\n  %reload_ext autoreload\n"
     ],
     "output_type": "stream"
    }
   ],
   "source": [
    "\n",
    "import os\n",
    "import re\n",
    "\n",
    "import logging\n",
    "\n",
    "import reimport\n",
    "\n",
    "from IPython.display import display\n",
    "\n",
    "log = logging.getLogger('sandbox-3')\n",
    "\n",
    "ch = logging.StreamHandler()\n",
    "ch.setLevel(logging.DEBUG)\n",
    "log.addHandler(ch)\n",
    "log.setLevel(logging.DEBUG)\n",
    "\n",
    "DIGITS_RE = re.compile(r'\\d+')\n",
    "\n",
    "%load_ext autoreload\n",
    "%autoreload 2"
   ]
  },
  {
   "cell_type": "code",
   "execution_count": 14,
   "outputs": [
    {
     "data": {
      "text/plain": "['alpha.txt',\n 'blah.info',\n 'file01_003.rgb',\n 'file01_0040.rgb',\n 'file01_0041.rgb',\n 'file01_0042.rgb',\n 'file01_0043.rgb',\n 'file02_003.rgb',\n 'file02_0044.rgb',\n 'file02_0045.rgb',\n 'file02_0046.rgb',\n 'file02_0047.rgb',\n 'file03_003.rgb',\n 'file04_003.rgb']"
     },
     "metadata": {},
     "output_type": "display_data"
    },
    {
     "name": "stdout",
     "text": [
      "alpha.txt - ['alpha.txt'], []\nblah.info - ['blah.info'], []\nfile01_003.rgb - ['file', '_', '.rgb'], ['01', '003']\nfile01_0040.rgb - ['file', '_', '.rgb'], ['01', '0040']\nfile01_0041.rgb - ['file', '_', '.rgb'], ['01', '0041']\nfile01_0042.rgb - ['file', '_', '.rgb'], ['01', '0042']\nfile01_0043.rgb - ['file', '_', '.rgb'], ['01', '0043']\nfile02_003.rgb - ['file', '_', '.rgb'], ['02', '003']\nfile02_0044.rgb - ['file', '_', '.rgb'], ['02', '0044']\nfile02_0045.rgb - ['file', '_', '.rgb'], ['02', '0045']\nfile02_0046.rgb - ['file', '_', '.rgb'], ['02', '0046']\nfile02_0047.rgb - ['file', '_', '.rgb'], ['02', '0047']\nfile03_003.rgb - ['file', '_', '.rgb'], ['03', '003']\nfile04_003.rgb - ['file', '_', '.rgb'], ['04', '003']\n"
     ],
     "output_type": "stream"
    }
   ],
   "source": [
    "files_pre = \"\"\"\n",
    "alpha.txt\n",
    "\n",
    "file01_0040.rgb\n",
    "file01_0041.rgb\n",
    "file01_0042.rgb\n",
    "file01_0043.rgb\n",
    "\n",
    "file02_0044.rgb\n",
    "file02_0045.rgb\n",
    "file02_0046.rgb\n",
    "file02_0047.rgb\n",
    "\n",
    "file01_003.rgb\n",
    "file02_003.rgb\n",
    "file03_003.rgb\n",
    "file04_003.rgb\n",
    "\n",
    "blah.info\n",
    "\n",
    "\"\"\"\n",
    "import lss.util\n",
    "\n",
    "files = sorted(files_pre.split())\n",
    "display(files)\n",
    "\n",
    "from lss.dataclass.item import Item\n",
    "\n",
    "items = list(map(Item, files))\n",
    "\n",
    "for ii in items:\n",
    "    print(f'{ii} - {ii.str_parts}, {ii.str_digits}')"
   ],
   "metadata": {
    "collapsed": false,
    "pycharm": {
     "name": "#%%\n",
     "is_executing": false
    }
   }
  },
  {
   "cell_type": "code",
   "execution_count": 15,
   "outputs": [
    {
     "data": {
      "text/plain": "[<lss.Item \"alpha.txt\">]"
     },
     "metadata": {},
     "output_type": "display_data"
    },
    {
     "data": {
      "text/plain": "[<lss.Item \"blah.info\">]"
     },
     "metadata": {},
     "output_type": "display_data"
    },
    {
     "data": {
      "text/plain": "[<lss.Item \"file01_003.rgb\">,\n <lss.Item \"file02_003.rgb\">,\n <lss.Item \"file03_003.rgb\">,\n <lss.Item \"file04_003.rgb\">]"
     },
     "metadata": {},
     "output_type": "display_data"
    },
    {
     "data": {
      "text/plain": "[<lss.Item \"file01_0040.rgb\">,\n <lss.Item \"file01_0041.rgb\">,\n <lss.Item \"file01_0042.rgb\">,\n <lss.Item \"file01_0043.rgb\">]"
     },
     "metadata": {},
     "output_type": "display_data"
    },
    {
     "data": {
      "text/plain": "[<lss.Item \"file02_0044.rgb\">,\n <lss.Item \"file02_0045.rgb\">,\n <lss.Item \"file02_0046.rgb\">,\n <lss.Item \"file02_0047.rgb\">]"
     },
     "metadata": {},
     "output_type": "display_data"
    }
   ],
   "source": [
    "from lss.dataclass.sequence import Sequence\n",
    "\n",
    "files_ = files[:]\n",
    "\n",
    "seqs = []\n",
    "\n",
    "while files_:\n",
    "    \n",
    "    item = Item(files_.pop(0))\n",
    "    \n",
    "    found = False\n",
    "    \n",
    "    for seq in seqs:\n",
    "        if seq.can_include(item):\n",
    "            seq.append(item)\n",
    "            \n",
    "            found = True\n",
    "            break\n",
    "            \n",
    "    \n",
    "    if not found:\n",
    "        seq = Sequence(item)\n",
    "        seqs.append(seq)\n",
    "\n",
    "for seq in seqs:\n",
    "    display(seq._items)"
   ],
   "metadata": {
    "collapsed": false,
    "pycharm": {
     "name": "#%%\n",
     "is_executing": false
    }
   }
  }
 ],
 "metadata": {
  "kernelspec": {
   "display_name": "Python 3",
   "language": "python",
   "name": "python3"
  },
  "language_info": {
   "codemirror_mode": {
    "name": "ipython",
    "version": 2
   },
   "file_extension": ".py",
   "mimetype": "text/x-python",
   "name": "python",
   "nbconvert_exporter": "python",
   "pygments_lexer": "ipython2",
   "version": "2.7.6"
  },
  "pycharm": {
   "stem_cell": {
    "cell_type": "raw",
    "source": [],
    "metadata": {
     "collapsed": false
    }
   }
  }
 },
 "nbformat": 4,
 "nbformat_minor": 0
}