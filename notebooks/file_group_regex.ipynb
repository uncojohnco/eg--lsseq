{
 "cells": [
  {
   "cell_type": "code",
   "execution_count": 6,
   "metadata": {
    "collapsed": false,
    "jupyter": {
     "outputs_hidden": false
    },
    "pycharm": {
     "is_executing": false,
     "name": "#%%\n"
    }
   },
   "outputs": [],
   "source": [
    "from typing import Dict, Pattern, Tuple\n",
    "\n",
    "import re\n",
    "\n",
    "from collections import defaultdict\n",
    "\n",
    "from IPython.display import display"
   ]
  },
  {
   "cell_type": "code",
   "execution_count": 7,
   "metadata": {
    "collapsed": true,
    "jupyter": {
     "outputs_hidden": true
    },
    "lines_to_next_cell": 2,
    "pycharm": {
     "is_executing": false
    }
   },
   "outputs": [
    {
     "data": {
      "text/plain": [
       "['alpha.txt',\n",
       " 'file01_0040.rgb',\n",
       " 'file01_0041.rgb',\n",
       " 'file01_0042.rgb',\n",
       " 'file01_0043.rgb',\n",
       " 'file02_0044.rgb',\n",
       " 'file02_0045.rgb',\n",
       " 'file02_0046.rgb',\n",
       " 'file02_0047.rgb',\n",
       " 'file1.03.rgb',\n",
       " 'file2.03.rgb',\n",
       " 'file3.03.rgb',\n",
       " 'file4.03.rgb',\n",
       " 'file.info.03.rgb']"
      ]
     },
     "metadata": {},
     "output_type": "display_data"
    }
   ],
   "source": [
    "files_pre = \"\"\"\n",
    "alpha.txt\n",
    "file01_0040.rgb\n",
    "file01_0041.rgb\n",
    "file01_0042.rgb\n",
    "file01_0043.rgb\n",
    "file02_0044.rgb\n",
    "file02_0045.rgb\n",
    "file02_0046.rgb\n",
    "file02_0047.rgb\n",
    "file1.03.rgb\n",
    "file2.03.rgb\n",
    "file3.03.rgb\n",
    "file4.03.rgb\n",
    "file.info.03.rgb\n",
    "\"\"\"\n",
    "\n",
    "files = files_pre.split()\n",
    "display(files)"
   ]
  },
  {
   "cell_type": "code",
   "execution_count": 8,
   "metadata": {
    "collapsed": false,
    "jupyter": {
     "outputs_hidden": false
    },
    "pycharm": {
     "is_executing": false,
     "name": "#%%\n"
    }
   },
   "outputs": [],
   "source": [
    "# Regular expression pattern for matching file names on disk.\n",
    "FILE_GROUP_PATTERN = r\"^(?P<basename>.*?)(?P<frames>\\d+)?(?P<ext>\\.\\w*)*?$\"\n",
    "FILE_GROUP_RE = re.compile(FILE_GROUP_PATTERN)\n",
    "\n",
    "# TODO: For now we do the work on the file name \n",
    "#  and not the full path to keep the complexity minimal...\n",
    "def get_file_group_key(filename, disk_re: Pattern = None) -> Dict:\n",
    "    \"\"\"\n",
    "    >>> get_file_group_key('file01_0040.rgb')\n",
    "    {'basename': 'file01_', 'frames': '0040', 'ext': '.rgb'}\n",
    "    >>> get_file_group_key('file.info.03.rgb.txt')\n",
    "    {'basename': 'file.info.03', 'frames': 'None, 'ext': '.txt'}\n",
    "    \n",
    "    \"\"\"\n",
    "    check =  FILE_GROUP_RE.match or disk_re\n",
    "    \n",
    "    match = check(filename)\n",
    "    groupdict = match.groupdict()\n",
    "    \n",
    "    return groupdict\n"
   ]
  },
  {
   "cell_type": "code",
   "execution_count": 9,
   "metadata": {
    "collapsed": false,
    "jupyter": {
     "outputs_hidden": false
    },
    "pycharm": {
     "is_executing": false,
     "name": "#%%\n"
    }
   },
   "outputs": [
    {
     "data": {
      "text/plain": [
       "{'basename': 'file', 'frames': None, 'ext': '.txt'}"
      ]
     },
     "execution_count": 9,
     "metadata": {},
     "output_type": "execute_result"
    }
   ],
   "source": [
    "# TODO: fix this edge case\n",
    "\n",
    "get_file_group_key('file.info.03.txt')\n",
    "# Should return...\n",
    "# {'basename': 'file.info.03', 'frames': None, 'ext': '.txt'}"
   ]
  },
  {
   "cell_type": "code",
   "execution_count": 10,
   "metadata": {
    "collapsed": false,
    "jupyter": {
     "outputs_hidden": false
    },
    "pycharm": {
     "is_executing": false,
     "name": "#%%\n"
    }
   },
   "outputs": [
    {
     "data": {
      "text/plain": [
       "defaultdict(set, {})"
      ]
     },
     "metadata": {},
     "output_type": "display_data"
    }
   ],
   "source": [
    "# display(files)\n",
    "seqs = defaultdict(set)\n",
    "\n",
    "for fp in files:\n",
    "    groups = get_file_group_key(fp)\n",
    "    # key = (basename, ext)\n",
    "\n",
    "display(seqs)"
   ]
  }
 ],
 "metadata": {
  "jupytext": {
   "formats": "ipynb,py:percent"
  },
  "kernelspec": {
   "display_name": "Python 3",
   "language": "python",
   "name": "python3"
  },
  "language_info": {
   "codemirror_mode": {
    "name": "ipython",
    "version": 3
   },
   "file_extension": ".py",
   "mimetype": "text/x-python",
   "name": "python",
   "nbconvert_exporter": "python",
   "pygments_lexer": "ipython3",
   "version": "3.7.3"
  },
  "pycharm": {
   "stem_cell": {
    "cell_type": "raw",
    "metadata": {
     "collapsed": false
    },
    "source": []
   }
  }
 },
 "nbformat": 4,
 "nbformat_minor": 4
}
