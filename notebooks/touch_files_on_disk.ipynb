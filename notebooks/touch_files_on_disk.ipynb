{
 "cells": [
  {
   "cell_type": "markdown",
   "metadata": {
    "pycharm": {
     "is_executing": false,
     "name": "#%% md\n"
    }
   },
   "source": [
    "https://realpython.com/working-with-files-in-python/"
   ]
  },
  {
   "cell_type": "code",
   "execution_count": 5,
   "metadata": {
    "collapsed": false,
    "jupyter": {
     "outputs_hidden": false
    },
    "pycharm": {
     "is_executing": false,
     "name": "#%%\n"
    }
   },
   "outputs": [],
   "source": [
    "import os\n",
    "from pathlib import Path\n",
    "\n",
    "from IPython.display import display\n",
    "\n",
    "\n",
    "dest_dir = '/home/johnco/PycharmProjects/test--dd-2019/test-jc--dd-2019/tests/files/ex1'\n",
    "\n",
    "input = \"\"\"\n",
    "elem.info sd_fx29.0112.rgb sd_fx29.0125.rgb sd_fx29.0137.rgb\n",
    "sd_fx29.0101.rgb sd_fx29.0113.rgb sd_fx29.0126.rgb sd_fx29.0138.rgb\n",
    "sd_fx29.0102.rgb sd_fx29.0114.rgb sd_fx29.0127.rgb sd_fx29.0139.rgb\n",
    "sd_fx29.0103.rgb sd_fx29.0115.rgb sd_fx29.0128.rgb sd_fx29.0140.rgb\n",
    "sd_fx29.0104.rgb sd_fx29.0116.rgb sd_fx29.0129.rgb sd_fx29.0141.rgb\n",
    "sd_fx29.0105.rgb sd_fx29.0117.rgb sd_fx29.0130.rgb sd_fx29.0142.rgb\n",
    "sd_fx29.0106.rgb sd_fx29.0118.rgb sd_fx29.0131.rgb sd_fx29.0143.rgb\n",
    "sd_fx29.0107.rgb sd_fx29.0119.rgb sd_fx29.0132.rgb sd_fx29.0144.rgb\n",
    "sd_fx29.0108.rgb sd_fx29.0120.rgb sd_fx29.0133.rgb sd_fx29.0145.rgb\n",
    "sd_fx29.0109.rgb sd_fx29.0121.rgb sd_fx29.0134.rgb sd_fx29.0146.rgb\n",
    "sd_fx29.0110.rgb sd_fx29.0123.rgb sd_fx29.0135.rgb sd_fx29.0147.rgb\n",
    "sd_fx29.0111.rgb sd_fx29.0124.rgb sd_fx29.0136.rgb strange.xml\n",
    "\"\"\"\n",
    "\n",
    "filenames = input.split()\n",
    "# display(filenames)"
   ]
  },
  {
   "cell_type": "code",
   "execution_count": 7,
   "metadata": {
    "collapsed": false,
    "jupyter": {
     "outputs_hidden": false
    },
    "pycharm": {
     "is_executing": false,
     "name": "#%%\n"
    }
   },
   "outputs": [
    {
     "data": {
      "text/plain": [
       "['/home/johnco/PycharmProjects/test--dd-2019/test-jc--dd-2019/tests/files/ex1/elem.info',\n",
       " '/home/johnco/PycharmProjects/test--dd-2019/test-jc--dd-2019/tests/files/ex1/sd_fx29.0112.rgb',\n",
       " '/home/johnco/PycharmProjects/test--dd-2019/test-jc--dd-2019/tests/files/ex1/sd_fx29.0125.rgb',\n",
       " '/home/johnco/PycharmProjects/test--dd-2019/test-jc--dd-2019/tests/files/ex1/sd_fx29.0137.rgb',\n",
       " '/home/johnco/PycharmProjects/test--dd-2019/test-jc--dd-2019/tests/files/ex1/sd_fx29.0101.rgb',\n",
       " '/home/johnco/PycharmProjects/test--dd-2019/test-jc--dd-2019/tests/files/ex1/sd_fx29.0113.rgb',\n",
       " '/home/johnco/PycharmProjects/test--dd-2019/test-jc--dd-2019/tests/files/ex1/sd_fx29.0126.rgb',\n",
       " '/home/johnco/PycharmProjects/test--dd-2019/test-jc--dd-2019/tests/files/ex1/sd_fx29.0138.rgb',\n",
       " '/home/johnco/PycharmProjects/test--dd-2019/test-jc--dd-2019/tests/files/ex1/sd_fx29.0102.rgb',\n",
       " '/home/johnco/PycharmProjects/test--dd-2019/test-jc--dd-2019/tests/files/ex1/sd_fx29.0114.rgb',\n",
       " '/home/johnco/PycharmProjects/test--dd-2019/test-jc--dd-2019/tests/files/ex1/sd_fx29.0127.rgb',\n",
       " '/home/johnco/PycharmProjects/test--dd-2019/test-jc--dd-2019/tests/files/ex1/sd_fx29.0139.rgb',\n",
       " '/home/johnco/PycharmProjects/test--dd-2019/test-jc--dd-2019/tests/files/ex1/sd_fx29.0103.rgb',\n",
       " '/home/johnco/PycharmProjects/test--dd-2019/test-jc--dd-2019/tests/files/ex1/sd_fx29.0115.rgb',\n",
       " '/home/johnco/PycharmProjects/test--dd-2019/test-jc--dd-2019/tests/files/ex1/sd_fx29.0128.rgb',\n",
       " '/home/johnco/PycharmProjects/test--dd-2019/test-jc--dd-2019/tests/files/ex1/sd_fx29.0140.rgb',\n",
       " '/home/johnco/PycharmProjects/test--dd-2019/test-jc--dd-2019/tests/files/ex1/sd_fx29.0104.rgb',\n",
       " '/home/johnco/PycharmProjects/test--dd-2019/test-jc--dd-2019/tests/files/ex1/sd_fx29.0116.rgb',\n",
       " '/home/johnco/PycharmProjects/test--dd-2019/test-jc--dd-2019/tests/files/ex1/sd_fx29.0129.rgb',\n",
       " '/home/johnco/PycharmProjects/test--dd-2019/test-jc--dd-2019/tests/files/ex1/sd_fx29.0141.rgb',\n",
       " '/home/johnco/PycharmProjects/test--dd-2019/test-jc--dd-2019/tests/files/ex1/sd_fx29.0105.rgb',\n",
       " '/home/johnco/PycharmProjects/test--dd-2019/test-jc--dd-2019/tests/files/ex1/sd_fx29.0117.rgb',\n",
       " '/home/johnco/PycharmProjects/test--dd-2019/test-jc--dd-2019/tests/files/ex1/sd_fx29.0130.rgb',\n",
       " '/home/johnco/PycharmProjects/test--dd-2019/test-jc--dd-2019/tests/files/ex1/sd_fx29.0142.rgb',\n",
       " '/home/johnco/PycharmProjects/test--dd-2019/test-jc--dd-2019/tests/files/ex1/sd_fx29.0106.rgb',\n",
       " '/home/johnco/PycharmProjects/test--dd-2019/test-jc--dd-2019/tests/files/ex1/sd_fx29.0118.rgb',\n",
       " '/home/johnco/PycharmProjects/test--dd-2019/test-jc--dd-2019/tests/files/ex1/sd_fx29.0131.rgb',\n",
       " '/home/johnco/PycharmProjects/test--dd-2019/test-jc--dd-2019/tests/files/ex1/sd_fx29.0143.rgb',\n",
       " '/home/johnco/PycharmProjects/test--dd-2019/test-jc--dd-2019/tests/files/ex1/sd_fx29.0107.rgb',\n",
       " '/home/johnco/PycharmProjects/test--dd-2019/test-jc--dd-2019/tests/files/ex1/sd_fx29.0119.rgb',\n",
       " '/home/johnco/PycharmProjects/test--dd-2019/test-jc--dd-2019/tests/files/ex1/sd_fx29.0132.rgb',\n",
       " '/home/johnco/PycharmProjects/test--dd-2019/test-jc--dd-2019/tests/files/ex1/sd_fx29.0144.rgb',\n",
       " '/home/johnco/PycharmProjects/test--dd-2019/test-jc--dd-2019/tests/files/ex1/sd_fx29.0108.rgb',\n",
       " '/home/johnco/PycharmProjects/test--dd-2019/test-jc--dd-2019/tests/files/ex1/sd_fx29.0120.rgb',\n",
       " '/home/johnco/PycharmProjects/test--dd-2019/test-jc--dd-2019/tests/files/ex1/sd_fx29.0133.rgb',\n",
       " '/home/johnco/PycharmProjects/test--dd-2019/test-jc--dd-2019/tests/files/ex1/sd_fx29.0145.rgb',\n",
       " '/home/johnco/PycharmProjects/test--dd-2019/test-jc--dd-2019/tests/files/ex1/sd_fx29.0109.rgb',\n",
       " '/home/johnco/PycharmProjects/test--dd-2019/test-jc--dd-2019/tests/files/ex1/sd_fx29.0121.rgb',\n",
       " '/home/johnco/PycharmProjects/test--dd-2019/test-jc--dd-2019/tests/files/ex1/sd_fx29.0134.rgb',\n",
       " '/home/johnco/PycharmProjects/test--dd-2019/test-jc--dd-2019/tests/files/ex1/sd_fx29.0146.rgb',\n",
       " '/home/johnco/PycharmProjects/test--dd-2019/test-jc--dd-2019/tests/files/ex1/sd_fx29.0110.rgb',\n",
       " '/home/johnco/PycharmProjects/test--dd-2019/test-jc--dd-2019/tests/files/ex1/sd_fx29.0123.rgb',\n",
       " '/home/johnco/PycharmProjects/test--dd-2019/test-jc--dd-2019/tests/files/ex1/sd_fx29.0135.rgb',\n",
       " '/home/johnco/PycharmProjects/test--dd-2019/test-jc--dd-2019/tests/files/ex1/sd_fx29.0147.rgb',\n",
       " '/home/johnco/PycharmProjects/test--dd-2019/test-jc--dd-2019/tests/files/ex1/sd_fx29.0111.rgb',\n",
       " '/home/johnco/PycharmProjects/test--dd-2019/test-jc--dd-2019/tests/files/ex1/sd_fx29.0124.rgb',\n",
       " '/home/johnco/PycharmProjects/test--dd-2019/test-jc--dd-2019/tests/files/ex1/sd_fx29.0136.rgb',\n",
       " '/home/johnco/PycharmProjects/test--dd-2019/test-jc--dd-2019/tests/files/ex1/strange.xml']"
      ]
     },
     "metadata": {},
     "output_type": "display_data"
    }
   ],
   "source": [
    "filepaths = [os.path.join(dest_dir, fn) for fn in filenames]\n",
    "\n",
    "display(filepaths)"
   ]
  },
  {
   "cell_type": "code",
   "execution_count": 17,
   "metadata": {
    "collapsed": false,
    "jupyter": {
     "outputs_hidden": false
    },
    "pycharm": {
     "is_executing": false,
     "name": "#%%\n"
    }
   },
   "outputs": [],
   "source": [
    "def touch_files(filepaths):\n",
    "    \n",
    "    for fp in filepaths:\n",
    "        Path(fp).touch()\n",
    "        \n",
    "# touch_files(filepaths)"
   ]
  },
  {
   "cell_type": "code",
   "execution_count": 16,
   "metadata": {
    "collapsed": false,
    "jupyter": {
     "outputs_hidden": false
    },
    "pycharm": {
     "is_executing": false,
     "name": "#%%\n"
    }
   },
   "outputs": [
    {
     "name": "stdout",
     "output_type": "stream",
     "text": [
      "sd_fx29.0138.rgb\n",
      "sd_fx29.0119.rgb\n",
      "sd_fx29.0133.rgb\n",
      "sd_fx29.0102.rgb\n",
      "sd_fx29.0134.rgb\n",
      "sd_fx29.0142.rgb\n",
      "sd_fx29.0120.rgb\n",
      "strange.xml\n",
      "sd_fx29.0118.rgb\n",
      "sd_fx29.0106.rgb\n",
      "sd_fx29.0123.rgb\n",
      "sd_fx29.0116.rgb\n",
      "sd_fx29.0117.rgb\n",
      "sd_fx29.0129.rgb\n",
      "sd_fx29.0112.rgb\n",
      "sd_fx29.0135.rgb\n",
      "sd_fx29.0101.rgb\n",
      "sd_fx29.0141.rgb\n",
      "sd_fx29.0105.rgb\n",
      "sd_fx29.0146.rgb\n",
      "sd_fx29.0131.rgb\n",
      "sd_fx29.0113.rgb\n",
      "sd_fx29.0144.rgb\n",
      "sd_fx29.0143.rgb\n",
      "sd_fx29.0110.rgb\n",
      "sd_fx29.0130.rgb\n",
      "sd_fx29.0136.rgb\n",
      "sd_fx29.0104.rgb\n",
      "sd_fx29.0121.rgb\n",
      "sd_fx29.0137.rgb\n",
      "sd_fx29.0108.rgb\n",
      "sd_fx29.0147.rgb\n",
      "sd_fx29.0128.rgb\n",
      "sd_fx29.0139.rgb\n",
      "sd_fx29.0115.rgb\n",
      "sd_fx29.0109.rgb\n",
      "sd_fx29.0126.rgb\n",
      "sd_fx29.0127.rgb\n",
      "sd_fx29.0140.rgb\n",
      "sd_fx29.0103.rgb\n",
      "sd_fx29.0114.rgb\n",
      "elem.info\n",
      "sd_fx29.0107.rgb\n",
      "sd_fx29.0111.rgb\n",
      "sd_fx29.0145.rgb\n",
      "sd_fx29.0124.rgb\n",
      "sd_fx29.0125.rgb\n",
      "sd_fx29.0132.rgb\n"
     ]
    }
   ],
   "source": [
    "# ls files to check if they exist\n",
    "dest_dir_path = Path(dest_dir)\n",
    "\n",
    "for entry in dest_dir_path.iterdir():\n",
    "    print(entry.name)"
   ]
  }
 ],
 "metadata": {
  "jupytext": {
   "formats": "ipynb,py:percent"
  },
  "kernelspec": {
   "display_name": "Python 3",
   "language": "python",
   "name": "python3"
  },
  "language_info": {
   "codemirror_mode": {
    "name": "ipython",
    "version": 3
   },
   "file_extension": ".py",
   "mimetype": "text/x-python",
   "name": "python",
   "nbconvert_exporter": "python",
   "pygments_lexer": "ipython3",
   "version": "3.7.3"
  },
  "pycharm": {
   "stem_cell": {
    "cell_type": "raw",
    "metadata": {
     "collapsed": false
    },
    "source": []
   }
  }
 },
 "nbformat": 4,
 "nbformat_minor": 4
}
