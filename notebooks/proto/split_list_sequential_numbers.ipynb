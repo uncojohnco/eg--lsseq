{
 "cells": [
  {
   "cell_type": "code",
   "execution_count": 51,
   "metadata": {
    "collapsed": true,
    "pycharm": {
     "is_executing": false
    }
   },
   "outputs": [],
   "source": [
    "from itertools import groupby\n",
    "\n",
    "from IPython.display import HTML, display\n"
   ]
  },
  {
   "cell_type": "markdown",
   "source": [
    "https://docs.python.org/2.6/library/itertools.html#examples\n",
    "\n",
    "Find runs of consecutive numbers using [groupby](https://docs.python.org/3/library/itertools.html#itertools.groupby).\n",
    "The key to the solution is  \n",
    "- for each number find it's \"offset\" i.e it's value minus it's position\n",
    "- numbers with the same offset are a group of consecutive numbers"
   ],
   "metadata": {
    "collapsed": false
   }
  },
  {
   "cell_type": "code",
   "execution_count": 52,
   "outputs": [
    {
     "name": "stdout",
     "text": [
      "[(0, 0), (1, 1), (2, 2), (3, 3), (4, 4)]\n",
      "[0, 0, 0, 0, 0]\n"
     ],
     "output_type": "stream"
    }
   ],
   "source": [
    "data = range(5)\n",
    "\n",
    "data_counter = list(enumerate(data))\n",
    "\n",
    "# for each number, find it's \"offset\" i.e it's value minus it's position\n",
    "find_offset = lambda x: x[1] - x[0]\n",
    "offsets = list(map(find_offset, data_counter))\n",
    "\n",
    "print(data_counter)\n",
    "print(offsets)"
   ],
   "metadata": {
    "collapsed": false,
    "pycharm": {
     "name": "#%%\n",
     "is_executing": false
    }
   }
  },
  {
   "cell_type": "code",
   "execution_count": 53,
   "outputs": [
    {
     "name": "stdout",
     "text": [
      "[(0, 4), (1, 5), (2, 6), (3, 7)]\n",
      "[4, 4, 4, 4]\n"
     ],
     "output_type": "stream"
    }
   ],
   "source": [
    "data = [4,5,6,7]\n",
    "\n",
    "data_counter = list(enumerate(data))\n",
    "\n",
    "find_offset = lambda x: x[1] - x[0]\n",
    "offsets = list(map(find_offset, data_counter))\n",
    "\n",
    "print(data_counter)\n",
    "print(offsets)"
   ],
   "metadata": {
    "collapsed": false,
    "pycharm": {
     "name": "#%%\n",
     "is_executing": false
    }
   }
  },
  {
   "cell_type": "code",
   "execution_count": 56,
   "outputs": [
    {
     "data": {
      "text/plain": "<IPython.core.display.HTML object>",
      "text/html": "<table><tr><td>pos</td><td>val</td><td>offset</td></tr><tr><td>0</td><td>1</td><td>1</td></tr><tr><td>1</td><td>4</td><td>3</td></tr><tr><td>2</td><td>5</td><td>3</td></tr><tr><td>3</td><td>6</td><td>3</td></tr><tr><td>4</td><td>10</td><td>6</td></tr><tr><td>5</td><td>15</td><td>10</td></tr><tr><td>6</td><td>16</td><td>10</td></tr><tr><td>7</td><td>17</td><td>10</td></tr><tr><td>8</td><td>18</td><td>10</td></tr></table>"
     },
     "metadata": {},
     "output_type": "display_data"
    }
   ],
   "source": [
    "data = [1, 4,5,6, 10, 15,16,17,18]\n",
    "\n",
    "data_counter = list(enumerate(data))\n",
    "\n",
    "find_offset = lambda x: x[1] - x[0]\n",
    "offsets = list(map(find_offset, data_counter))\n",
    "\n",
    "row = ('<tr>'\n",
    "       '<td>{}</td><td>{}</td><td>{}</td>'\n",
    "       '</tr>')\n",
    "\n",
    "rows = []\n",
    "\n",
    "for (pos, val), offset in zip(data_counter, offsets):\n",
    "    tr = row.format(pos, val, offset)\n",
    "    rows.append(tr)\n",
    "\n",
    "header = row.format('pos', 'val', 'offset')\n",
    "rows = ''.join(rows)\n",
    "\n",
    "html = (f'<table>'\n",
    "        f'{header}'\n",
    "        f'{rows}'\n",
    "        f'</table>')\n",
    "\n",
    "display(HTML(html))\n",
    " "
   ],
   "metadata": {
    "collapsed": false,
    "pycharm": {
     "name": "#%%\n",
     "is_executing": false
    }
   }
  },
  {
   "cell_type": "code",
   "execution_count": 55,
   "outputs": [
    {
     "name": "stdout",
     "text": [
      "k:  1, g: [(0, 1)]\n",
      "k:  3, g: [(1, 4), (2, 5), (3, 6)]\n",
      "k:  6, g: [(4, 10)]\n",
      "k: 10, g: [(5, 15), (6, 16), (7, 17), (8, 18)]\n",
      "k: 13, g: [(9, 22)]\n",
      "k: 15, g: [(10, 25), (11, 26), (12, 27), (13, 28)]\n"
     ],
     "output_type": "stream"
    }
   ],
   "source": [
    "data = [1, 4,5,6, 10, 15,16,17,18, 22, 25,26,27,28]\n",
    "\n",
    "find_offset = lambda x: x[1] - x[0]\n",
    "\n",
    "# Use groupby to enumerate over the list of numbers and \n",
    "# apply the `find_offset` function to resolve a key for each element.\n",
    "# Groupby will then group each element by the key resolved from the find_offset function\n",
    "for k, g in groupby(enumerate(data), find_offset):\n",
    "    print(f'k: {k:2}, g: {list(g)}')\n"
   ],
   "metadata": {
    "collapsed": false,
    "pycharm": {
     "name": "#%%\n",
     "is_executing": false
    }
   }
  }
 ],
 "metadata": {
  "kernelspec": {
   "display_name": "Python 3",
   "language": "python",
   "name": "python3"
  },
  "language_info": {
   "codemirror_mode": {
    "name": "ipython",
    "version": 2
   },
   "file_extension": ".py",
   "mimetype": "text/x-python",
   "name": "python",
   "nbconvert_exporter": "python",
   "pygments_lexer": "ipython2",
   "version": "2.7.6"
  },
  "pycharm": {
   "stem_cell": {
    "cell_type": "raw",
    "source": [],
    "metadata": {
     "collapsed": false
    }
   }
  }
 },
 "nbformat": 4,
 "nbformat_minor": 0
}