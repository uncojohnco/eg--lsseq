{
 "cells": [
  {
   "cell_type": "code",
   "execution_count": 6,
   "metadata": {
    "collapsed": false,
    "jupyter": {
     "outputs_hidden": false
    },
    "pycharm": {
     "is_executing": false,
     "name": "#%%\n"
    }
   },
   "outputs": [],
   "source": [
    "from typing import Dict\n",
    "\n",
    "import re\n",
    "\n",
    "from collections import defaultdict\n",
    "\n",
    "from IPython.display import display"
   ]
  },
  {
   "cell_type": "code",
   "execution_count": 7,
   "metadata": {
    "collapsed": true,
    "jupyter": {
     "outputs_hidden": true
    },
    "lines_to_next_cell": 2,
    "pycharm": {
     "is_executing": false
    }
   },
   "outputs": [
    {
     "data": {
      "text/plain": [
       "['alpha.txt',\n",
       " 'file01_0040.rgb',\n",
       " 'file01_0041.rgb',\n",
       " 'file01_0042.rgb',\n",
       " 'file01_0043.rgb',\n",
       " 'file02_0044.rgb',\n",
       " 'file02_0045.rgb',\n",
       " 'file02_0046.rgb',\n",
       " 'file02_0047.rgb',\n",
       " 'file1.03.rgb',\n",
       " 'file2.03.rgb',\n",
       " 'file3.03.rgb',\n",
       " 'file4.03.rgb',\n",
       " 'file.info.03.rgb']"
      ]
     },
     "metadata": {},
     "output_type": "display_data"
    }
   ],
   "source": [
    "files_pre = \"\"\"\n",
    "alpha.txt\n",
    "file01_0040.rgb\n",
    "file01_0041.rgb\n",
    "file01_0042.rgb\n",
    "file01_0043.rgb\n",
    "file02_0044.rgb\n",
    "file02_0045.rgb\n",
    "file02_0046.rgb\n",
    "file02_0047.rgb\n",
    "file1.03.rgb\n",
    "file2.03.rgb\n",
    "file3.03.rgb\n",
    "file4.03.rgb\n",
    "file.info.03.rgb\n",
    "\"\"\"\n",
    "\n",
    "files = files_pre.split()\n",
    "display(files)"
   ]
  },
  {
   "cell_type": "code",
   "execution_count": 8,
   "metadata": {
    "collapsed": false,
    "jupyter": {
     "outputs_hidden": false
    },
    "pycharm": {
     "is_executing": false,
     "name": "#%%\n"
    }
   },
   "outputs": [],
   "source": [
    "# Regular expression pattern for matching file names on disk.\n",
    "SEQ_PATTERN = r\"(\\d+)\"\n",
    "SEQ_RE = re.compile(SEQ_PATTERN)\n",
    "\n",
    "def get_file_group_key(filename) -> Dict:\n",
    "    \n",
    "    def _frame_cstring(frames):\n",
    "\n",
    "        zfill = len(frames)\n",
    "        \n",
    "        if zfill > 1:\n",
    "            ctring_frames = '%0{}d'.format(seq_groups[0])\n",
    "        else:\n",
    "            ctring_frames = '%d'\n",
    "        \n",
    "        return ctring_frames\n",
    "\n",
    "    check =  SEQ_RE.match\n",
    "    seq_candidates = check(filename)\n",
    "    seq_groups = seq_candidates.groups()\n",
    "    \n",
    "    # If not any groups, asume that the file name dosen't \n",
    "    # contain any characters representing a frame...\n",
    "    if not len(seq_groups):\n",
    "        key = filename\n",
    "\n",
    "    elif len(seq_groups) == 1:\n",
    "        frames = seq_groups[0]\n",
    "        prefix, suffix = filename.split(frames)\n",
    "        \n",
    "        ctring_frames = _frame_cstring(frames)\n",
    "        \n",
    "        key = f'{prefix}{ctring_frames}{suffix}'\n",
    "        "
   ]
  },
  {
   "cell_type": "code",
   "execution_count": 9,
   "metadata": {
    "collapsed": false,
    "jupyter": {
     "outputs_hidden": false
    },
    "pycharm": {
     "is_executing": false,
     "name": "#%%\n"
    }
   },
   "outputs": [
    {
     "data": {
      "text/plain": [
       "{'basename': 'file', 'frames': None, 'ext': '.txt'}"
      ]
     },
     "execution_count": 9,
     "metadata": {},
     "output_type": "execute_result"
    }
   ],
   "source": [
    "# TODO: fix this edge case\n",
    "\n",
    "get_file_group_key('file.info.03.txt')\n",
    "# Should return...\n",
    "# {'basename': 'file.info.03', 'frames': None, 'ext': '.txt'}"
   ]
  },
  {
   "cell_type": "code",
   "execution_count": 13,
   "metadata": {
    "collapsed": false,
    "jupyter": {
     "outputs_hidden": false
    },
    "pycharm": {
     "is_executing": false,
     "name": "#%%\n"
    }
   },
   "outputs": [
    {
     "data": {
      "text/plain": [
       "defaultdict(set,\n",
       "            {'alpha-.txt': {None},\n",
       "             'file01_-.rgb': {'0040', '0041', '0042', '0043'},\n",
       "             'file02_-.rgb': {'0044', '0045', '0046', '0047'},\n",
       "             'file-.rgb': {'1', '2', '3', '4', None}})"
      ]
     },
     "metadata": {},
     "output_type": "display_data"
    }
   ],
   "source": [
    "# display(files)\n",
    "seqs = defaultdict(set)\n",
    "\n",
    "for fp in files:\n",
    "    groups = get_file_group_key(fp)\n",
    "    key = '{basename}-{ext}'.format(**groups)\n",
    "    seqs[key].add(groups['frames'])\n",
    "\n",
    "display(seqs)"
   ]
  }
 ],
 "metadata": {
  "jupytext": {
   "formats": "ipynb,py:percent"
  },
  "kernelspec": {
   "display_name": "Python 3",
   "language": "python",
   "name": "python3"
  },
  "language_info": {
   "codemirror_mode": {
    "name": "ipython",
    "version": 3
   },
   "file_extension": ".py",
   "mimetype": "text/x-python",
   "name": "python",
   "nbconvert_exporter": "python",
   "pygments_lexer": "ipython3",
   "version": "3.7.3"
  },
  "pycharm": {
   "stem_cell": {
    "cell_type": "raw",
    "source": [],
    "metadata": {
     "collapsed": false
    }
   }
  }
 },
 "nbformat": 4,
 "nbformat_minor": 4
}