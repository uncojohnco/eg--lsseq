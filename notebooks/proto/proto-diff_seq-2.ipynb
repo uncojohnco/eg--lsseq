{
 "cells": [
  {
   "cell_type": "code",
   "execution_count": null,
   "metadata": {
    "collapsed": false,
    "jupyter": {
     "outputs_hidden": false
    },
    "pycharm": {
     "name": "#%%\n"
    }
   },
   "outputs": [],
   "source": [
    "import os\n",
    "import re\n",
    "\n",
    "import logging\n",
    "from typing import List, Match, Union\n",
    "\n",
    "from IPython.display import display\n",
    "\n",
    "log = logging.getLogger('scratch-2')\n",
    "log.setLevel(logging.DEBUG)\n",
    "\n",
    "DIGITS_RE = re.compile(r'\\d+')"
   ]
  },
  {
   "cell_type": "code",
   "execution_count": 32,
   "metadata": {
    "collapsed": false,
    "jupyter": {
     "outputs_hidden": false
    },
    "pycharm": {
     "is_executing": false,
     "name": "#%%\n"
    }
   },
   "outputs": [
    {
     "data": {
      "text/plain": [
       "['alpha.txt',\n",
       " 'file01_0040.rgb',\n",
       " 'file01_0041.rgb',\n",
       " 'file01_0042.rgb',\n",
       " 'file01_0043.rgb',\n",
       " 'file02_0044.rgb',\n",
       " 'file02_0045.rgb',\n",
       " 'file02_0046.rgb',\n",
       " 'file02_0047.rgb',\n",
       " 'file1.03.rgb',\n",
       " 'file2.03.rgb',\n",
       " 'file3.03.rgb',\n",
       " 'file4.03.rgb',\n",
       " 'file.info.03.rgb',\n",
       " 'file01.0000.v03.rgb',\n",
       " 'file02.0000.v03.rgb',\n",
       " 'file03.0000.v03.rgb']"
      ]
     },
     "metadata": {},
     "output_type": "display_data"
    }
   ],
   "source": [
    "files_pre = \"\"\"\n",
    "alpha.txt\n",
    "\n",
    "file01_0040.rgb\n",
    "file01_0041.rgb\n",
    "file01_0042.rgb\n",
    "file01_0043.rgb\n",
    "\n",
    "file02_0044.rgb\n",
    "file02_0045.rgb\n",
    "file02_0046.rgb\n",
    "file02_0047.rgb\n",
    "\n",
    "file1.03.rgb\n",
    "file2.03.rgb\n",
    "file3.03.rgb\n",
    "file4.03.rgb\n",
    "\n",
    "file.info.03.rgb\n",
    "\n",
    "file01.0000.v03.rgb\n",
    "file02.0000.v03.rgb\n",
    "file03.0000.v03.rgb\n",
    "\"\"\"\n",
    "\n",
    "files = files_pre.split()\n",
    "display(files)"
   ]
  },
  {
   "cell_type": "code",
   "execution_count": 27,
   "metadata": {
    "collapsed": false,
    "jupyter": {
     "outputs_hidden": false
    },
    "pycharm": {
     "is_executing": false,
     "name": "#%%\n"
    }
   },
   "outputs": [],
   "source": [
    "class Item:\n",
    "\n",
    "    def __init__(self, item):\n",
    "\n",
    "        self._item = item\n",
    "        self._path = os.path.abspath(str(item))\n",
    "\n",
    "        self._dirname, self._filename = os.path.split(self._path)\n",
    "\n",
    "        self._digits = DIGITS_RE.findall(self.name)\n",
    "        self._parts = DIGITS_RE.split(self.name)\n",
    "\n",
    "    def is_sibling(self, item: Union[str, 'Item']) -> bool:\n",
    "\n",
    "        if not isinstance(item, Item):\n",
    "            item = Item(item)\n",
    "\n",
    "        if self._parts != item._parts:\n",
    "            return False\n",
    "\n",
    "        diff_result = diff_sequence(self.name, item.name)\n",
    "        is_sibling = len(diff_result) == 1\n",
    "\n",
    "        return is_sibling\n",
    "\n",
    "    @property\n",
    "    def name(self) -> str:\n",
    "        return self._filename\n",
    "\n",
    "    @property\n",
    "    def parts(self) -> List[str]:\n",
    "        return self._parts\n",
    "    \n",
    "    @property\n",
    "    def digits(self) -> List[int]:\n",
    "        return self._digits\n",
    "\n",
    "    def __str__(self):\n",
    "        return str(self.name)\n",
    "\n",
    "    def __repr__(self):\n",
    "        n = self.name\n",
    "        return '<lss.Item \"{n}\">'\n",
    "    \n",
    "\n",
    "def diff_sequence(name1: str, name2: str, strict=True) -> List:\n",
    "    \n",
    "    def _same_seq(match1: Match, match2: Match) -> bool:\n",
    "        \n",
    "        start1, start2 = match1.start(), match2.start()\n",
    "        group1, group2 = match1.group(), match2.group()\n",
    "\n",
    "        if start1 != start2:\n",
    "            return False\n",
    "    \n",
    "        if group1 == group2:\n",
    "            return False\n",
    "    \n",
    "        if strict is True and len(group1) != len(group2):\n",
    "            return False\n",
    "\n",
    "        return True\n",
    "    \n",
    "    log.debug(f'diff: \"{name1} {name2}')\n",
    "\n",
    "    matches1 = [m for m in DIGITS_RE.finditer(name1)]\n",
    "    matches2 = [m for m in DIGITS_RE.finditer(name2)]\n",
    "\n",
    "    if not len(matches1) == len(matches2):\n",
    "        return []\n",
    "\n",
    "    diff_result = []\n",
    "\n",
    "    for m1, m2 in zip(matches1, matches2):\n",
    "        \n",
    "        if not _same_seq(m1, m2):\n",
    "            continue\n",
    "\n",
    "        data = {\n",
    "            'start': m1.start(),\n",
    "            'end': m1.end(),\n",
    "            'frames': (m1.group(), m2.group())\n",
    "        }\n",
    "        diff_result.append(data)\n",
    "\n",
    "    return diff_result\n",
    "        "
   ]
  },
  {
   "cell_type": "code",
   "execution_count": 33,
   "metadata": {
    "collapsed": false,
    "jupyter": {
     "outputs_hidden": false
    },
    "pycharm": {
     "is_executing": false,
     "name": "#%%\n"
    }
   },
   "outputs": [
    {
     "name": "stdout",
     "output_type": "stream",
     "text": [
      "alpha.txt - ['alpha.txt'], []\n",
      "file01_0040.rgb - ['file', '_', '.rgb'], ['01', '0040']\n",
      "file01_0041.rgb - ['file', '_', '.rgb'], ['01', '0041']\n",
      "file01_0042.rgb - ['file', '_', '.rgb'], ['01', '0042']\n",
      "file01_0043.rgb - ['file', '_', '.rgb'], ['01', '0043']\n",
      "file02_0044.rgb - ['file', '_', '.rgb'], ['02', '0044']\n",
      "file02_0045.rgb - ['file', '_', '.rgb'], ['02', '0045']\n",
      "file02_0046.rgb - ['file', '_', '.rgb'], ['02', '0046']\n",
      "file02_0047.rgb - ['file', '_', '.rgb'], ['02', '0047']\n",
      "file1.03.rgb - ['file', '.', '.rgb'], ['1', '03']\n",
      "file2.03.rgb - ['file', '.', '.rgb'], ['2', '03']\n",
      "file3.03.rgb - ['file', '.', '.rgb'], ['3', '03']\n",
      "file4.03.rgb - ['file', '.', '.rgb'], ['4', '03']\n",
      "file.info.03.rgb - ['file.info.', '.rgb'], ['03']\n",
      "file01.0000.v03.rgb - ['file', '.', '.v', '.rgb'], ['01', '0000', '03']\n",
      "file02.0000.v03.rgb - ['file', '.', '.v', '.rgb'], ['02', '0000', '03']\n",
      "file03.0000.v03.rgb - ['file', '.', '.v', '.rgb'], ['03', '0000', '03']\n"
     ]
    }
   ],
   "source": [
    "items = list(map(Item, files))\n",
    "    \n",
    "for ii in items:\n",
    "    print(f'{ii} - {ii.parts}, {ii.digits}')"
   ]
  },
  {
   "cell_type": "code",
   "execution_count": 18,
   "metadata": {
    "collapsed": false,
    "jupyter": {
     "outputs_hidden": false
    },
    "pycharm": {
     "is_executing": false,
     "name": "#%%\n"
    }
   },
   "outputs": [],
   "source": [
    "f1_name = 'file01_0040.rgb'\n",
    "f2_name = 'file01_0041.rgb'\n",
    "\n",
    "\n",
    "i1 = Item(f1_name)\n",
    "\n",
    "s = i1.is_sibling(f2_name)"
   ]
  }
 ],
 "metadata": {
  "jupytext": {
   "formats": "ipynb,py:percent"
  },
  "kernelspec": {
   "display_name": "Python 3",
   "language": "python",
   "name": "python3"
  },
  "language_info": {
   "codemirror_mode": {
    "name": "ipython",
    "version": 3
   },
   "file_extension": ".py",
   "mimetype": "text/x-python",
   "name": "python",
   "nbconvert_exporter": "python",
   "pygments_lexer": "ipython3",
   "version": "3.7.3"
  },
  "pycharm": {
   "stem_cell": {
    "cell_type": "raw",
    "metadata": {
     "collapsed": false
    },
    "source": []
   }
  }
 },
 "nbformat": 4,
 "nbformat_minor": 4
}
