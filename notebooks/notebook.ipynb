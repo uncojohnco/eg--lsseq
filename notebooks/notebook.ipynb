{
 "cells": [
  {
   "cell_type": "code",
   "execution_count": 3,
   "metadata": {
    "pycharm": {
     "is_executing": false
    }
   },
   "outputs": [],
   "source": [
    "import os, pathlib\n",
    "\n",
    "import fileseq"
   ]
  },
  {
   "cell_type": "code",
   "execution_count": 4,
   "metadata": {
    "pycharm": {
     "is_executing": false
    }
   },
   "outputs": [
    {
     "data": {
      "text/plain": [
       "[<FileSequence: '/home/johnco/PycharmProjects/test--dd-2019/test--dd-2019/tests/broken_seq/file2.3@@.rgb'>,\n",
       " <FileSequence: '/home/johnco/PycharmProjects/test--dd-2019/test--dd-2019/tests/broken_seq/file02_0-4@.rgb'>,\n",
       " <FileSequence: '/home/johnco/PycharmProjects/test--dd-2019/test--dd-2019/tests/broken_seq/file01_40-42,44-45#.rgb'>,\n",
       " <FileSequence: '/home/johnco/PycharmProjects/test--dd-2019/test--dd-2019/tests/broken_seq/file1.3@@.rgb'>,\n",
       " <FileSequence: '/home/johnco/PycharmProjects/test--dd-2019/test--dd-2019/tests/broken_seq/file3.3@@.rgb'>,\n",
       " <FileSequence: '/home/johnco/PycharmProjects/test--dd-2019/test--dd-2019/tests/broken_seq/file4.3@@.rgb'>]"
      ]
     },
     "execution_count": 4,
     "metadata": {},
     "output_type": "execute_result"
    }
   ],
   "source": [
    "cwd =  pathlib.Path(os.getcwd()).parent\n",
    "path = cwd.joinpath('tests/broken_seq')\n",
    "seqs = fileseq.findSequencesOnDisk(path.as_posix())\n",
    "seqs"
   ]
  },
  {
   "cell_type": "code",
   "execution_count": 13,
   "metadata": {
    "pycharm": {
     "is_executing": false
    }
   },
   "outputs": [],
   "source": [
    "s = seqs[2]\n",
    "# dir(s)"
   ]
  },
  {
   "cell_type": "code",
   "execution_count": 6,
   "metadata": {
    "pycharm": {
     "is_executing": false
    }
   },
   "outputs": [
    {
     "data": {
      "text/plain": [
       "'@@'"
      ]
     },
     "execution_count": 6,
     "metadata": {},
     "output_type": "execute_result"
    }
   ],
   "source": [
    "s.padding()"
   ]
  },
  {
   "cell_type": "code",
   "execution_count": 7,
   "metadata": {
    "pycharm": {
     "is_executing": false
    }
   },
   "outputs": [
    {
     "data": {
      "text/plain": [
       "'/home/johnco/PycharmProjects/test--dd-2019/test--dd-2019/tests/broken_seq'"
      ]
     },
     "execution_count": 7,
     "metadata": {},
     "output_type": "execute_result"
    }
   ],
   "source": [
    "path.as_posix()"
   ]
  },
  {
   "cell_type": "code",
   "execution_count": 11,
   "metadata": {
    "pycharm": {
     "is_executing": false
    }
   },
   "outputs": [],
   "source": [
    "cwd =  pathlib.PurePath(os.getcwd()).parent\n",
    "path = cwd.joinpath('tests/broken_seq')\n",
    "# dir(path)"
   ]
  },
  {
   "cell_type": "code",
   "execution_count": 10,
   "metadata": {
    "pycharm": {
     "is_executing": false,
     "name": "#%%\n"
    }
   },
   "outputs": [
    {
     "name": "stdout",
     "output_type": "stream",
     "text": [
      "((?:[-\\d][-:,xy\\d]*)?)([#@]+|%(?:\\d)*d|\\$F(?:\\d)*)\n"
     ]
    }
   ],
   "source": [
    "PAD_MAP = {\"#\": 4, \"@\": 1}\n",
    "\n",
    "# Regular expression for matching a file sequence string.\n",
    "# Example: /film/shot/renders/bilbo_bty.1-100#.exr\n",
    "# Example: /film/shot/renders/bilbo_bty.1-100@.exr\n",
    "# Example: /film/shot/renders/bilbo_bty.1-100@@@@#.exr\n",
    "# Example: /film/shot/renders/bilbo_bty.1-100%04d.exr\n",
    "SPLIT_PATTERN = r\"((?:[-\\d][-:,xy\\d]*)?)([{0}]+|%(?:\\d)*d|\\$F(?:\\d)*)\".format(''.join(PAD_MAP))\n",
    "print(SPLIT_PATTERN)"
   ]
  }
 ],
 "metadata": {
  "jupytext": {
   "formats": "ipynb,py:light"
  },
  "kernelspec": {
   "display_name": "Python 3",
   "language": "python",
   "name": "python3"
  },
  "language_info": {
   "codemirror_mode": {
    "name": "ipython",
    "version": 3
   },
   "file_extension": ".py",
   "mimetype": "text/x-python",
   "name": "python",
   "nbconvert_exporter": "python",
   "pygments_lexer": "ipython3",
   "version": "3.7.3"
  },
  "pycharm": {
   "stem_cell": {
    "cell_type": "raw",
    "metadata": {
     "collapsed": false
    },
    "source": []
   }
  }
 },
 "nbformat": 4,
 "nbformat_minor": 4
}
