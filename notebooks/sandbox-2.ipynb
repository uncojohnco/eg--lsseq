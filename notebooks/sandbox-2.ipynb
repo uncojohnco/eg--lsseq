{
 "cells": [
  {
   "cell_type": "code",
   "execution_count": 2,
   "metadata": {
    "collapsed": true,
    "pycharm": {
     "is_executing": false
    }
   },
   "outputs": [],
   "source": [
    "\n",
    "\n",
    "\n",
    "import os\n",
    "import re\n",
    "\n",
    "import logging\n",
    "from typing import List, Match, Union\n",
    "\n",
    "from collections import defaultdict\n",
    "\n",
    "from IPython.display import display\n",
    "\n",
    "log = logging.getLogger('sandbox-2')\n",
    "log.setLevel(logging.DEBUG)\n",
    "\n",
    "DIGITS_RE = re.compile(r'\\d+')"
   ]
  },
  {
   "cell_type": "code",
   "execution_count": 6,
   "outputs": [
    {
     "data": {
      "text/plain": "['alpha.txt',\n 'file01_0040.rgb',\n 'file01_0041.rgb',\n 'file01_0042.rgb',\n 'file01_0043.rgb',\n 'file02_0044.rgb',\n 'file02_0045.rgb',\n 'file02_0046.rgb',\n 'file02_0047.rgb',\n 'file01_003.rgb',\n 'file02_003.rgb',\n 'file03_003.rgb',\n 'file04_003.rgb']"
     },
     "metadata": {},
     "output_type": "display_data"
    }
   ],
   "source": [
    "files_pre = \"\"\"\n",
    "alpha.txt\n",
    "\n",
    "file01_0040.rgb\n",
    "file01_0041.rgb\n",
    "file01_0042.rgb\n",
    "file01_0043.rgb\n",
    "\n",
    "file02_0044.rgb\n",
    "file02_0045.rgb\n",
    "file02_0046.rgb\n",
    "file02_0047.rgb\n",
    "\n",
    "file01_003.rgb\n",
    "file02_003.rgb\n",
    "file03_003.rgb\n",
    "file04_003.rgb\n",
    "\n",
    "file01_003.rgb\n",
    "file02_003.rgb\n",
    "file03_003.rgb\n",
    "file04_003.rgb\n",
    "\n",
    "blah.info\n",
    "\n",
    "\"\"\"\n",
    "\n",
    "files = files_pre.split()\n",
    "display(files)"
   ],
   "metadata": {
    "collapsed": false,
    "pycharm": {
     "name": "#%%\n",
     "is_executing": false
    }
   }
  },
  {
   "cell_type": "code",
   "execution_count": 9,
   "outputs": [
    {
     "name": "stdout",
     "text": [
      "alpha.txt - ['alpha.txt'], []\nfile01_0040.rgb - ['file', '_', '.rgb'], ['01', '0040']\nfile01_0041.rgb - ['file', '_', '.rgb'], ['01', '0041']\nfile01_0042.rgb - ['file', '_', '.rgb'], ['01', '0042']\nfile01_0043.rgb - ['file', '_', '.rgb'], ['01', '0043']\nfile02_0044.rgb - ['file', '_', '.rgb'], ['02', '0044']\nfile02_0045.rgb - ['file', '_', '.rgb'], ['02', '0045']\nfile02_0046.rgb - ['file', '_', '.rgb'], ['02', '0046']\nfile02_0047.rgb - ['file', '_', '.rgb'], ['02', '0047']\nfile01_003.rgb - ['file', '_', '.rgb'], ['01', '003']\nfile02_003.rgb - ['file', '_', '.rgb'], ['02', '003']\nfile03_003.rgb - ['file', '_', '.rgb'], ['03', '003']\nfile04_003.rgb - ['file', '_', '.rgb'], ['04', '003']\n"
     ],
     "output_type": "stream"
    }
   ],
   "source": [
    "import lss.util\n",
    "from lss.dataclass.item import Item\n",
    "\n",
    "items = list(map(Item, files))\n",
    "\n",
    "\n",
    "buckets = dict(\n",
    "    non_sequence = [],\n",
    "    sequence_potential = [],\n",
    "    sequence_real = [],\n",
    ")\n",
    "\n",
    "from dataclasses import dataclass\n",
    "\n",
    "@dataclass\n",
    "class SequenceDef:\n",
    "    frame_part_start: int\n",
    "    frame_part_end: int\n",
    "    parts: List[str]\n",
    "\n",
    "for ii in items:\n",
    "    # print(f'{ii} - {ii.str_parts}, {ii.str_digits}')\n",
    "    \n",
    "    if len(ii.str_parts) == 1:\n",
    "        buckets['non_sequence'].append(ii)\n",
    "        continue\n",
    "    \n",
    "    for item in buckets['sequence_potential']:\n",
    "        \n",
    "        seq_set = lss.util.diff_sequence(item.name, ii.name)\n",
    "        if seq_set:\n",
    "            seqdef = SequenceDef(seq_set.start, seq_set.end, item.str_parts)\n",
    "            seq = Sequence(seqdef)\n",
    "            buckets['sequence_real'].append(seq)\n",
    "            \n",
    "            found = True\n",
    "            break\n",
    "    \n",
    "    for seq in buckets['sequence_real']:\n",
    "        if seq.can_include(ii):\n",
    "            seq.append(ii)\n",
    "    else:\n",
    "        buckets['sequence_potential'].append(ii)"
   ],
   "metadata": {
    "collapsed": false,
    "pycharm": {
     "name": "#%%\n",
     "is_executing": false
    }
   }
  },
  {
   "cell_type": "code",
   "execution_count": 8,
   "outputs": [
    {
     "traceback": [
      "\u001b[0;36m  File \u001b[0;32m\"<ipython-input-8-07a0d6878d5b>\"\u001b[0;36m, line \u001b[0;32m20\u001b[0m\n\u001b[0;31m    \u001b[0m\n\u001b[0m    ^\u001b[0m\n\u001b[0;31mSyntaxError\u001b[0m\u001b[0;31m:\u001b[0m unexpected EOF while parsing\n"
     ],
     "ename": "SyntaxError",
     "evalue": "unexpected EOF while parsing (<ipython-input-8-07a0d6878d5b>, line 20)",
     "output_type": "error"
    }
   ],
   "source": [
    "files_ = files[:]\n",
    "# list for storing sequences to be returned later\n",
    "seqs = []\n",
    "\n",
    "# organize the items into sequences\n",
    "while files_:\n",
    "    \n",
    "    item = Item(files_.pop(0))\n",
    "    \n",
    "    found = False\n",
    "    \n",
    "    for seq in seqs:\n",
    "        if seq.can_include(item):\n",
    "            seq.append(item)\n",
    "            \n",
    "            found = True\n",
    "            \n",
    "            break\n",
    "    \n",
    "    if not found:\n",
    "        seq = Sequence([item])\n",
    "        seqs.append(seq\n",
    "                    "
   ],
   "metadata": {
    "collapsed": false,
    "pycharm": {
     "name": "#%%\n",
     "is_executing": false
    }
   }
  },
  {
   "cell_type": "code",
   "execution_count": null,
   "outputs": [],
   "source": [],
   "metadata": {
    "collapsed": false,
    "pycharm": {
     "name": "#%%\n"
    }
   }
  }
 ],
 "metadata": {
  "kernelspec": {
   "display_name": "Python 3",
   "language": "python",
   "name": "python3"
  },
  "language_info": {
   "codemirror_mode": {
    "name": "ipython",
    "version": 2
   },
   "file_extension": ".py",
   "mimetype": "text/x-python",
   "name": "python",
   "nbconvert_exporter": "python",
   "pygments_lexer": "ipython2",
   "version": "2.7.6"
  },
  "pycharm": {
   "stem_cell": {
    "cell_type": "raw",
    "source": [],
    "metadata": {
     "collapsed": false
    }
   }
  }
 },
 "nbformat": 4,
 "nbformat_minor": 0
}