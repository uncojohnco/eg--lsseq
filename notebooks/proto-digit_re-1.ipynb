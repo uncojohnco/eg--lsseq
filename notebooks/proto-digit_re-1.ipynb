{
 "cells": [
  {
   "cell_type": "code",
   "execution_count": 4,
   "metadata": {
    "collapsed": true,
    "jupyter": {
     "outputs_hidden": true
    },
    "pycharm": {
     "is_executing": false
    }
   },
   "outputs": [],
   "source": [
    "import os\n",
    "import re\n",
    "\n",
    "from IPython.display import display"
   ]
  },
  {
   "cell_type": "code",
   "execution_count": 1,
   "metadata": {
    "collapsed": false,
    "jupyter": {
     "outputs_hidden": false
    },
    "pycharm": {
     "is_executing": false,
     "name": "#%%\n"
    }
   },
   "outputs": [
    {
     "data": {
      "text/plain": [
       "['alpha.txt',\n",
       " 'file01_0040.rgb',\n",
       " 'file01_0041.rgb',\n",
       " 'file01_0042.rgb',\n",
       " 'file01_0043.rgb',\n",
       " 'file02_0044.rgb',\n",
       " 'file02_0045.rgb',\n",
       " 'file02_0046.rgb',\n",
       " 'file02_0047.rgb',\n",
       " 'file1.03.rgb',\n",
       " 'file2.03.rgb',\n",
       " 'file3.03.rgb',\n",
       " 'file4.03.rgb',\n",
       " 'file.info.03.rgb']"
      ]
     },
     "metadata": {},
     "output_type": "display_data"
    }
   ],
   "source": [
    "files_pre = \"\"\"\n",
    "alpha.txt\n",
    "file01_0040.rgb\n",
    "file01_0041.rgb\n",
    "file01_0042.rgb\n",
    "file01_0043.rgb\n",
    "file02_0044.rgb\n",
    "file02_0045.rgb\n",
    "file02_0046.rgb\n",
    "file02_0047.rgb\n",
    "file1.03.rgb\n",
    "file2.03.rgb\n",
    "file3.03.rgb\n",
    "file4.03.rgb\n",
    "file.info.03.rgb\n",
    "\"\"\"\n",
    "\n",
    "files = files_pre.split()\n",
    "display(files)"
   ]
  },
  {
   "cell_type": "code",
   "execution_count": 7,
   "metadata": {
    "collapsed": false,
    "jupyter": {
     "outputs_hidden": false
    },
    "pycharm": {
     "is_executing": false,
     "name": "#%%      \n"
    }
   },
   "outputs": [],
   "source": [
    "digits_re = re.compile(r'\\d+')\n",
    "\n",
    "item = files[1]\n",
    "\n",
    "\n",
    "_path = os.path.abspath(str(item))\n",
    "\n",
    "dirname, filename = os.path.split(_path)\n",
    "\n",
    "name = filename\n",
    "\n",
    "digits = digits_re.findall(name)\n",
    "parts = digits_re.split(name)\n"
   ]
  },
  {
   "cell_type": "code",
   "execution_count": 8,
   "metadata": {
    "collapsed": false,
    "jupyter": {
     "outputs_hidden": false
    },
    "pycharm": {
     "is_executing": false,
     "name": "#%%      \n"
    }
   },
   "outputs": [],
   "source": [
    "\n",
    "f1_name = 'file01_0040.rgb'\n",
    "f2_name = 'file01_0041.rgb'\n",
    "\n",
    "\n",
    "l1 = [m for m in digits_re.finditer(f1_name)]\n",
    "l2 = [m for m in digits_re.finditer(f2_name)]\n"
   ]
  }
 ],
 "metadata": {
  "jupytext": {
   "formats": "ipynb,py:percent"
  },
  "kernelspec": {
   "display_name": "Python 3",
   "language": "python",
   "name": "python3"
  },
  "language_info": {
   "codemirror_mode": {
    "name": "ipython",
    "version": 3
   },
   "file_extension": ".py",
   "mimetype": "text/x-python",
   "name": "python",
   "nbconvert_exporter": "python",
   "pygments_lexer": "ipython3",
   "version": "3.7.3"
  },
  "pycharm": {
   "stem_cell": {
    "cell_type": "raw",
    "metadata": {
     "collapsed": false
    },
    "source": []
   }
  }
 },
 "nbformat": 4,
 "nbformat_minor": 4
}
